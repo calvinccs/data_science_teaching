{
 "cells": [
  {
   "cell_type": "markdown",
   "metadata": {},
   "source": [
    "# Extract data from doc and store in table"
   ]
  },
  {
   "cell_type": "markdown",
   "metadata": {},
   "source": [
    "A company use all sort of information for decision making, these information can be anywhere, document, e-mail, or even powerpoint. Here is a tutorial on how to extract data from data stored in document and transform into a table format."
   ]
  },
  {
   "cell_type": "markdown",
   "metadata": {},
   "source": [
    "Currently, there is lack of library that convert .doc file into text but there are several work for docx. So, the first process is to convert these doc file into docx, program like LibreOffice will be idea of this task especially it can be install in an AWS server and run in command line. Imagine there are thousands of documents, we want to write the code and let the machine run it."
   ]
  },
  {
   "cell_type": "code",
   "execution_count": 1,
   "metadata": {},
   "outputs": [
    {
     "data": {
      "text/plain": [
       "['Editable Credit Report.doc',\n",
       " '.DS_Store',\n",
       " 'SAMPLE_FORMAT_FOR_A_FINANCIAL_REPORT.doc',\n",
       " 'Form for Review Comments.doc',\n",
       " 'FSChimimport interim 06008 BG v3(2)_ENG.doc',\n",
       " 'mastersinstructions.doc']"
      ]
     },
     "execution_count": 1,
     "metadata": {},
     "output_type": "execute_result"
    }
   ],
   "source": [
    "import os\n",
    "from subprocess import call\n",
    "files = os.listdir(\"doc\")\n",
    "files"
   ]
  },
  {
   "cell_type": "code",
   "execution_count": 16,
   "metadata": {},
   "outputs": [
    {
     "name": "stdout",
     "output_type": "stream",
     "text": [
      "\u001b[31mgengal\u001b[m\u001b[m       \u001b[31mregview\u001b[m\u001b[m      \u001b[31msoffice\u001b[m\u001b[m      \u001b[31muno\u001b[m\u001b[m          \u001b[31munopkg\u001b[m\u001b[m       \u001b[31muri-encode\u001b[m\u001b[m\r\n",
      "\u001b[31mregmerge\u001b[m\u001b[m     \u001b[31msenddoc\u001b[m\u001b[m      \u001b[31mui-previewer\u001b[m\u001b[m \u001b[31munoinfo\u001b[m\u001b[m      \u001b[35murelibs\u001b[m\u001b[m      \u001b[31mxpdfimport\u001b[m\u001b[m\r\n"
     ]
    }
   ],
   "source": [
    "!ls /Applications/LibreOffice.app/Contents/MacOS/"
   ]
  },
  {
   "cell_type": "code",
   "execution_count": 27,
   "metadata": {
    "scrolled": false
   },
   "outputs": [],
   "source": [
    "for f in files:\n",
    "    file_path = 'doc/' + f\n",
    "    call(['/Applications/LibreOffice.app/Contents/MacOS/soffice', '--headless', '--convert-to', 'docx', file_path, '--outdir', 'doc'])"
   ]
  },
  {
   "cell_type": "code",
   "execution_count": 32,
   "metadata": {},
   "outputs": [
    {
     "data": {
      "text/plain": [
       "['Form for Review Comments.docx',\n",
       " 'FSChimimport interim 06008 BG v3(2)_ENG.docx',\n",
       " 'mastersinstructions.docx',\n",
       " 'SAMPLE_FORMAT_FOR_A_FINANCIAL_REPORT.docx',\n",
       " 'Editable Credit Report.docx']"
      ]
     },
     "execution_count": 32,
     "metadata": {},
     "output_type": "execute_result"
    }
   ],
   "source": [
    "files = os.listdir(\"doc\")\n",
    "files = [f for f in files if 'docx' in f]\n",
    "files = [f for f in files if not f.startswith('.')]\n",
    "files"
   ]
  },
  {
   "cell_type": "code",
   "execution_count": 33,
   "metadata": {
    "collapsed": true
   },
   "outputs": [],
   "source": [
    "import docx2txt\n",
    "import pandas as pd\n",
    "import numpy as np"
   ]
  },
  {
   "cell_type": "code",
   "execution_count": 34,
   "metadata": {
    "collapsed": true
   },
   "outputs": [],
   "source": [
    "def fn_docx2txt(path, filename):\n",
    "    # Using python-docx library to parse document into string list, filename and path\n",
    "    doc = docx2txt.process(path + filename)\n",
    "    doc = doc.encode(\"utf-8\")\n",
    "    text = doc.split('\\n\\n')\n",
    "    profile = {}\n",
    "    profile['path'] = path\n",
    "    profile['filename'] = filename\n",
    "    return text, profile   "
   ]
  },
  {
   "cell_type": "markdown",
   "metadata": {},
   "source": [
    "## Extract data from a simple table"
   ]
  },
  {
   "cell_type": "code",
   "execution_count": 59,
   "metadata": {
    "scrolled": false
   },
   "outputs": [
    {
     "data": {
      "text/plain": [
       "{'filename': 'Form for Review Comments.docx', 'path': 'doc/'}"
      ]
     },
     "execution_count": 59,
     "metadata": {},
     "output_type": "execute_result"
    }
   ],
   "source": [
    "text, profile = fn_docx2txt('doc/', files[0])\n",
    "profile"
   ]
  },
  {
   "cell_type": "markdown",
   "metadata": {},
   "source": [
    "![](doc/p3_Form for Review Comments.png)"
   ]
  },
  {
   "cell_type": "code",
   "execution_count": 53,
   "metadata": {
    "scrolled": false
   },
   "outputs": [
    {
     "data": {
      "text/plain": [
       "['Document Review \\xe2\\x80\\x93 Comment Sheet',\n",
       " 'Comment Sheet Information (to be filled in by the Reviewer)',\n",
       " 'Comment Sheet Reference\\xc2\\xa0:',\n",
       " '<Form for Review Comments \\xe2\\x80\\x93 Version - COMT_XY>',\n",
       " 'Comment Sheet Date\\xc2\\xa0:',\n",
       " '<dd/mm/yyyy>',\n",
       " 'Document Information (to be filled in by the Author)',\n",
       " 'Document Title\\xc2\\xa0:',\n",
       " 'Accompanying report to the recommendation of the European Railway Agency ',\n",
       " 'Document Reference\\xc2\\xa0:',\n",
       " 'ERA-REC-123-ACR',\n",
       " 'Document Version\\xc2\\xa0:',\n",
       " '0.5',\n",
       " 'Document Date\\xc2\\xa0:',\n",
       " '05/06/2015',\n",
       " 'Date By Which Document Reviewed\\xc2\\xa0:',\n",
       " '15/09/2015',\n",
       " 'Document Reviewed by (to be filled in by the Reviewer)',\n",
       " 'Organisation or Company\\xc2\\xa0:',\n",
       " '',\n",
       " 'Name\\xc2\\xa0:',\n",
       " '',\n",
       " 'E-mail\\xc2\\xa0:']"
      ]
     },
     "execution_count": 53,
     "metadata": {},
     "output_type": "execute_result"
    }
   ],
   "source": [
    "text[7:30]"
   ]
  },
  {
   "cell_type": "markdown",
   "metadata": {},
   "source": [
    "### Function to extract fields\n",
    "\n",
    "Basically, we find the field name e.g. Document Title, then the next line will be the field content."
   ]
  },
  {
   "cell_type": "code",
   "execution_count": 54,
   "metadata": {},
   "outputs": [
    {
     "data": {
      "text/plain": [
       "{'D_DATE': '05/06/2015',\n",
       " 'REF': 'ERA-REC-123-ACR',\n",
       " 'R_DATE': '15/09/2015',\n",
       " 'TEXT': 'Accompanying report to the recommendation of the European Railway Agency '}"
      ]
     },
     "execution_count": 54,
     "metadata": {},
     "output_type": "execute_result"
    }
   ],
   "source": [
    "def title(x):\n",
    "    keywords = ['Document Title']\n",
    "    for line in range(len(x)):\n",
    "        if any(w in x[line] for w in keywords):\n",
    "            FIELD = x[line+1]\n",
    "            break\n",
    "        else:\n",
    "            FIELD = np.NaN\n",
    "    return FIELD\n",
    "\n",
    "def reference(x):\n",
    "    keywords = ['Document Reference']\n",
    "    for line in range(len(x)):\n",
    "        if any(w in x[line] for w in keywords):\n",
    "            FIELD = x[line+1]\n",
    "            break\n",
    "        else:\n",
    "            FIELD = np.NaN\n",
    "    return FIELD\n",
    "\n",
    "def ddate(x):\n",
    "    keywords = ['Document Date']\n",
    "    for line in range(len(x)):\n",
    "        if any(w in x[line] for w in keywords):\n",
    "            FIELD = x[line+1]\n",
    "            break\n",
    "        else:\n",
    "            FIELD = np.NaN\n",
    "    return FIELD\n",
    "\n",
    "def rdate(x):\n",
    "    keywords = ['Document Reviewed']\n",
    "    for line in range(len(x)):\n",
    "        if any(w in x[line] for w in keywords):\n",
    "            FIELD = x[line+1]\n",
    "            break\n",
    "        else:\n",
    "            FIELD = np.NaN\n",
    "    return FIELD\n",
    "\n",
    "info_dict = {}\n",
    "info_dict['TEXT'] = title(text)\n",
    "info_dict['REF'] = reference(text)\n",
    "info_dict['D_DATE'] = ddate(text)\n",
    "info_dict['R_DATE'] = rdate(text)\n",
    "\n",
    "info_dict"
   ]
  },
  {
   "cell_type": "code",
   "execution_count": 55,
   "metadata": {},
   "outputs": [
    {
     "data": {
      "text/html": [
       "<div>\n",
       "<style>\n",
       "    .dataframe thead tr:only-child th {\n",
       "        text-align: right;\n",
       "    }\n",
       "\n",
       "    .dataframe thead th {\n",
       "        text-align: left;\n",
       "    }\n",
       "\n",
       "    .dataframe tbody tr th {\n",
       "        vertical-align: top;\n",
       "    }\n",
       "</style>\n",
       "<table border=\"1\" class=\"dataframe\">\n",
       "  <thead>\n",
       "    <tr style=\"text-align: right;\">\n",
       "      <th></th>\n",
       "      <th>0</th>\n",
       "    </tr>\n",
       "  </thead>\n",
       "  <tbody>\n",
       "    <tr>\n",
       "      <th>D_DATE</th>\n",
       "      <td>05/06/2015</td>\n",
       "    </tr>\n",
       "    <tr>\n",
       "      <th>REF</th>\n",
       "      <td>ERA-REC-123-ACR</td>\n",
       "    </tr>\n",
       "    <tr>\n",
       "      <th>R_DATE</th>\n",
       "      <td>15/09/2015</td>\n",
       "    </tr>\n",
       "    <tr>\n",
       "      <th>TEXT</th>\n",
       "      <td>Accompanying report to the recommendation of t...</td>\n",
       "    </tr>\n",
       "  </tbody>\n",
       "</table>\n",
       "</div>"
      ],
      "text/plain": [
       "                                                        0\n",
       "D_DATE                                         05/06/2015\n",
       "REF                                       ERA-REC-123-ACR\n",
       "R_DATE                                         15/09/2015\n",
       "TEXT    Accompanying report to the recommendation of t..."
      ]
     },
     "execution_count": 55,
     "metadata": {},
     "output_type": "execute_result"
    }
   ],
   "source": [
    "pd.DataFrame([info_dict]).T"
   ]
  },
  {
   "cell_type": "markdown",
   "metadata": {},
   "source": [
    "## Extract data from a financial statement"
   ]
  },
  {
   "cell_type": "code",
   "execution_count": 61,
   "metadata": {
    "scrolled": true
   },
   "outputs": [
    {
     "data": {
      "text/plain": [
       "{'filename': 'FSChimimport interim 06008 BG v3(2)_ENG.docx', 'path': 'doc/'}"
      ]
     },
     "execution_count": 61,
     "metadata": {},
     "output_type": "execute_result"
    }
   ],
   "source": [
    "text, profile = fn_docx2txt('doc/', files[1])\n",
    "profile"
   ]
  },
  {
   "cell_type": "markdown",
   "metadata": {},
   "source": [
    "![](doc/p2.png)"
   ]
  },
  {
   "cell_type": "markdown",
   "metadata": {},
   "source": [
    "### Create a function that extract the paragraph and remove the empty"
   ]
  },
  {
   "cell_type": "code",
   "execution_count": 78,
   "metadata": {},
   "outputs": [],
   "source": [
    "def extract_paragraph(text, keyword1, keyword2, remove_empty = False):\n",
    "    paragraph = []\n",
    "    for line in range(len(text)):\n",
    "        if any(w in text[line] for w in keyword1):\n",
    "            paragraph.append(text[line])\n",
    "            nl = 1\n",
    "            while any(w in text[line+nl] for w in keyword2) ==  False:\n",
    "                if (line + nl + 1) >= len(text):\n",
    "                    paragraph.append(text[line+nl])\n",
    "                    break\n",
    "                else:\n",
    "                    paragraph.append(text[line+nl])\n",
    "                    nl += 1\n",
    "            break\n",
    "    paragraph.append('THE END')\n",
    "    if remove_empty == True:\n",
    "        paragraph = [line for line in paragraph if line is not '']\n",
    "    return paragraph"
   ]
  },
  {
   "cell_type": "code",
   "execution_count": 79,
   "metadata": {},
   "outputs": [
    {
     "data": {
      "text/plain": [
       "['Notes to the Interim Financial Statements ',\n",
       " '9',\n",
       " 'Interim Balance Sheet',\n",
       " 'Notes',\n",
       " '30 June',\n",
       " '31 December',\n",
       " '30 June',\n",
       " '2008',\n",
       " '2007',\n",
       " '2007',\n",
       " 'BGN\\xe2\\x80\\x99000',\n",
       " 'BGN\\xe2\\x80\\x99000',\n",
       " 'BGN\\xe2\\x80\\x99000',\n",
       " 'Assets',\n",
       " 'Non-current assets ',\n",
       " 'Property, plant and equipment ',\n",
       " '4',\n",
       " '         28 964 ',\n",
       " '21 838',\n",
       " '19 101',\n",
       " 'Investment property',\n",
       " '           1 130 ',\n",
       " '1 170',\n",
       " '1 214',\n",
       " 'Investments in subsidiaries ',\n",
       " '       388 693 ',\n",
       " '340 387',\n",
       " '185 909',\n",
       " 'Investments in associates ',\n",
       " '         45 670 ',\n",
       " '18 767',\n",
       " '18 052',\n",
       " 'Intangible assets',\n",
       " '5',\n",
       " '              123 ',\n",
       " '247',\n",
       " '371',\n",
       " 'Long-term financial assets',\n",
       " '           1 245 ',\n",
       " '19 510']"
      ]
     },
     "execution_count": 79,
     "metadata": {},
     "output_type": "execute_result"
    }
   ],
   "source": [
    "keyword1 = ['Notes to the Interim Financial Statements ']\n",
    "keyword2 = ['Prepared by:']\n",
    "text2 = extract_paragraph(text, keyword1, keyword2, remove_empty = True)\n",
    "text2[:40]"
   ]
  },
  {
   "cell_type": "markdown",
   "metadata": {},
   "source": [
    "### First, find the financial date"
   ]
  },
  {
   "cell_type": "code",
   "execution_count": 85,
   "metadata": {},
   "outputs": [
    {
     "data": {
      "text/plain": [
       "[datetime.date(2008, 6, 30),\n",
       " datetime.date(2007, 12, 31),\n",
       " datetime.date(2007, 6, 30)]"
      ]
     },
     "execution_count": 85,
     "metadata": {},
     "output_type": "execute_result"
    }
   ],
   "source": [
    "def isdate(x):\n",
    "    if x == '':\n",
    "        return False\n",
    "    else:        \n",
    "        try:\n",
    "            pd.to_datetime(x)\n",
    "            return True\n",
    "        except:\n",
    "            return False\n",
    "        \n",
    "def financial_date(x):\n",
    "    keywords = ['Notes']\n",
    "    F_date = []\n",
    "    for line in range(len(x)-1):\n",
    "        if any(w in x[line] for w in keywords):\n",
    "            nl = 1\n",
    "            while nl < 10:\n",
    "                date = x[line+nl]\n",
    "                year = x[line+nl+3]\n",
    "                if isdate(date + year):\n",
    "                    F_date.append(pd.to_datetime(date + year).date())\n",
    "                    nl += 1\n",
    "                else:\n",
    "                    nl += 1\n",
    "            break\n",
    "    return F_date\n",
    "\n",
    "Fin_info = {}\n",
    "Fin_info['F_date'] = financial_date(text2)\n",
    "Fin_info['F_date']"
   ]
  },
  {
   "cell_type": "code",
   "execution_count": 127,
   "metadata": {
    "collapsed": true
   },
   "outputs": [],
   "source": [
    "def isfloat(x):\n",
    "    x = x.replace(',','')\n",
    "    try:\n",
    "        float(x)\n",
    "        return True\n",
    "    except:\n",
    "        return False\n",
    "\n",
    "def investment_property(x):\n",
    "        keywords = ['Investment property']\n",
    "        FIELDS = []\n",
    "        for line in range(len(x)):\n",
    "            if any(w in x[line] for w in keywords):\n",
    "                nl = 1\n",
    "                while isfloat(x[line+nl].replace(' ', '')):\n",
    "                    if (line + nl + 1) >= len(x):\n",
    "                        break\n",
    "                    else:\n",
    "                            try:\n",
    "                                FIELDS.append(float(x[line+nl].replace(' ','')))\n",
    "                            except:\n",
    "                                FIELDS.append(x[line+nl].replace(' ', ''))\n",
    "                            nl += 1\n",
    "                if len(FIELDS) == NO_OF_YEARS:\n",
    "                    break\n",
    "        # FIELDS = [i for i in FIELDS if type(i) == float]\n",
    "        if len(FIELDS) > NO_OF_YEARS:\n",
    "            FIELDS = FIELDS[-1*(NO_OF_YEARS):]\n",
    "        return FIELDS\n",
    "    \n",
    "# if there are some unwanted fields\n",
    "def property_plant_equipment(x):\n",
    "        keywords = ['Property, plant and equipment']\n",
    "        FIELDS = []\n",
    "        for line in range(len(x)):\n",
    "            if any(w in x[line] for w in keywords):\n",
    "                nl = 1\n",
    "                while isfloat(x[line+nl].replace(' ', '')):\n",
    "                    if (line + nl + 1) >= len(x):\n",
    "                        break\n",
    "                    else:\n",
    "                            try:\n",
    "                                FIELDS.append(float(x[line+nl].replace(' ','')))\n",
    "                            except:\n",
    "                                FIELDS.append(x[line+nl].replace(' ', ''))\n",
    "                            nl += 1\n",
    "                if len(FIELDS) == NO_OF_YEARS:\n",
    "                    break\n",
    "        # FIELDS = [i for i in FIELDS if type(i) == float]\n",
    "        if len(FIELDS) > NO_OF_YEARS:\n",
    "            FIELDS = FIELDS[-1*(NO_OF_YEARS):]\n",
    "        return FIELDS    \n",
    "    \n",
    "# if there are some fields that is not number but we still want it\n",
    "def longterm_receivables(x):\n",
    "        keywords = ['Long-term receivables due from ']\n",
    "        FIELDS = []\n",
    "        for line in range(len(x)):\n",
    "            if any(w in x[line] for w in keywords):\n",
    "                nl = 1\n",
    "                while isfloat(x[line+nl].replace(' ', '')) or (x[line+nl] == '-'):\n",
    "                    if (line + nl + 1) >= len(x):\n",
    "                        break\n",
    "                    else:\n",
    "                            try:\n",
    "                                FIELDS.append(float(x[line+nl].replace(' ','')))\n",
    "                            except:\n",
    "                                FIELDS.append(x[line+nl].replace(' ', ''))\n",
    "                            nl += 1\n",
    "                if len(FIELDS) == NO_OF_YEARS:\n",
    "                    break\n",
    "        # FIELDS = [i for i in FIELDS if type(i) == float]\n",
    "        if len(FIELDS) > NO_OF_YEARS:\n",
    "            FIELDS = FIELDS[-1*(NO_OF_YEARS):]\n",
    "        return FIELDS\n",
    "\n"
   ]
  },
  {
   "cell_type": "code",
   "execution_count": 132,
   "metadata": {},
   "outputs": [
    {
     "data": {
      "text/plain": [
       "{'F_date': [datetime.date(2008, 6, 30),\n",
       "  datetime.date(2007, 12, 31),\n",
       "  datetime.date(2007, 6, 30)],\n",
       " 'investment_property': [1130.0, 1170.0, 1214.0],\n",
       " 'longterm_receivables': [81052.0, 72465.0, '-'],\n",
       " 'property_plant_equipment': [28964.0, 21838.0, 19101.0]}"
      ]
     },
     "execution_count": 132,
     "metadata": {},
     "output_type": "execute_result"
    }
   ],
   "source": [
    "NO_OF_YEARS = len(Fin_info['F_date'])\n",
    "Fin_info['property_plant_equipment'] = property_plant_equipment(text2)\n",
    "Fin_info['investment_property'] = investment_property(text2)\n",
    "Fin_info['longterm_receivables'] = longterm_receivables(text2)\n",
    "Fin_info"
   ]
  },
  {
   "cell_type": "markdown",
   "metadata": {},
   "source": [
    "### Create a dictionary with each date as a field"
   ]
  },
  {
   "cell_type": "code",
   "execution_count": 143,
   "metadata": {
    "collapsed": true
   },
   "outputs": [],
   "source": [
    "var = Fin_info.keys()\n",
    "try:\n",
    "    var.remove('F_date')\n",
    "except:\n",
    "    pass\n",
    "\n",
    "Fin_info_DICT = {}\n",
    "Fin_info_DICT['F_date'] = Fin_info['F_date']\n",
    "try:\n",
    "    for y in range(len(Fin_info['F_date'])):\n",
    "        for v in var:\n",
    "            if Fin_info[v][y] == '-':\n",
    "                Fin_info_DICT[v + '_' + str(Fin_info['F_date'][y])] = np.NaN\n",
    "            else:\n",
    "                try:\n",
    "                    Fin_info_DICT[v + '_' + str(Fin_info['F_date'][y])] = Fin_info[v][y]\n",
    "                except:\n",
    "                    Fin_info_DICT[v + '_' + str(Fin_info['F_date'][y])] = np.NaN\n",
    "except:\n",
    "    pass"
   ]
  },
  {
   "cell_type": "code",
   "execution_count": 146,
   "metadata": {},
   "outputs": [
    {
     "data": {
      "text/plain": [
       "{'F_date': [datetime.date(2008, 6, 30),\n",
       "  datetime.date(2007, 12, 31),\n",
       "  datetime.date(2007, 6, 30)],\n",
       " 'investment_property_2007-06-30': 1214.0,\n",
       " 'investment_property_2007-12-31': 1170.0,\n",
       " 'investment_property_2008-06-30': 1130.0,\n",
       " 'longterm_receivables_2007-06-30': nan,\n",
       " 'longterm_receivables_2007-12-31': 72465.0,\n",
       " 'longterm_receivables_2008-06-30': 81052.0,\n",
       " 'property_plant_equipment_2007-06-30': 19101.0,\n",
       " 'property_plant_equipment_2007-12-31': 21838.0,\n",
       " 'property_plant_equipment_2008-06-30': 28964.0}"
      ]
     },
     "execution_count": 146,
     "metadata": {},
     "output_type": "execute_result"
    }
   ],
   "source": [
    "Fin_info_DICT"
   ]
  },
  {
   "cell_type": "markdown",
   "metadata": {},
   "source": [
    "### Return the dictionary into table"
   ]
  },
  {
   "cell_type": "code",
   "execution_count": 149,
   "metadata": {
    "collapsed": true
   },
   "outputs": [],
   "source": [
    "def dict2table(x):\n",
    "    # make dictionary into table format\n",
    "    df = pd.DataFrame([x])\n",
    "    df_all = pd.DataFrame()\n",
    "    col = []\n",
    "    for y in x['F_date']:\n",
    "        globals()[str(y)] = df[[k for k in x.keys() if (str(y) in k)]].copy()\n",
    "        globals()[str(y)].rename(columns=lambda x: x.replace('_' + x.split('_')[-1], ''), inplace=True)\n",
    "        globals()[str(y)] = globals()[str(y)].T[0].sort_index()\n",
    "        col.append(str(y))\n",
    "        df_all = pd.concat([df_all, pd.DataFrame({str(y):globals()[str(y)]})], axis = 1)\n",
    "    df_all = df_all[col]\n",
    "    return df_all"
   ]
  },
  {
   "cell_type": "code",
   "execution_count": 150,
   "metadata": {},
   "outputs": [
    {
     "data": {
      "text/html": [
       "<div>\n",
       "<style>\n",
       "    .dataframe thead tr:only-child th {\n",
       "        text-align: right;\n",
       "    }\n",
       "\n",
       "    .dataframe thead th {\n",
       "        text-align: left;\n",
       "    }\n",
       "\n",
       "    .dataframe tbody tr th {\n",
       "        vertical-align: top;\n",
       "    }\n",
       "</style>\n",
       "<table border=\"1\" class=\"dataframe\">\n",
       "  <thead>\n",
       "    <tr style=\"text-align: right;\">\n",
       "      <th></th>\n",
       "      <th>2008-06-30</th>\n",
       "      <th>2007-12-31</th>\n",
       "      <th>2007-06-30</th>\n",
       "    </tr>\n",
       "  </thead>\n",
       "  <tbody>\n",
       "    <tr>\n",
       "      <th>investment_property</th>\n",
       "      <td>1130.0</td>\n",
       "      <td>1170.0</td>\n",
       "      <td>1214.0</td>\n",
       "    </tr>\n",
       "    <tr>\n",
       "      <th>longterm_receivables</th>\n",
       "      <td>81052.0</td>\n",
       "      <td>72465.0</td>\n",
       "      <td>NaN</td>\n",
       "    </tr>\n",
       "    <tr>\n",
       "      <th>property_plant_equipment</th>\n",
       "      <td>28964.0</td>\n",
       "      <td>21838.0</td>\n",
       "      <td>19101.0</td>\n",
       "    </tr>\n",
       "  </tbody>\n",
       "</table>\n",
       "</div>"
      ],
      "text/plain": [
       "                          2008-06-30  2007-12-31  2007-06-30\n",
       "investment_property           1130.0      1170.0      1214.0\n",
       "longterm_receivables         81052.0     72465.0         NaN\n",
       "property_plant_equipment     28964.0     21838.0     19101.0"
      ]
     },
     "execution_count": 150,
     "metadata": {},
     "output_type": "execute_result"
    }
   ],
   "source": [
    "dict2table(Fin_info_DICT)"
   ]
  },
  {
   "cell_type": "code",
   "execution_count": null,
   "metadata": {
    "collapsed": true
   },
   "outputs": [],
   "source": []
  }
 ],
 "metadata": {
  "kernelspec": {
   "display_name": "Python 2",
   "language": "python",
   "name": "python2"
  },
  "language_info": {
   "codemirror_mode": {
    "name": "ipython",
    "version": 2
   },
   "file_extension": ".py",
   "mimetype": "text/x-python",
   "name": "python",
   "nbconvert_exporter": "python",
   "pygments_lexer": "ipython2",
   "version": "2.7.13"
  }
 },
 "nbformat": 4,
 "nbformat_minor": 2
}
