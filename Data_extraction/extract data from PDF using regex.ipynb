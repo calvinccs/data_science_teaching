{
 "cells": [
  {
   "cell_type": "markdown",
   "metadata": {},
   "source": [
    "# Extract data from PDF using regex\n",
    "\n",
    "Although many pdf pasrer can scrap data from a pdf document but the output can be random, for example:"
   ]
  },
  {
   "cell_type": "code",
   "execution_count": 38,
   "metadata": {
    "collapsed": true
   },
   "outputs": [],
   "source": [
    "import pandas as pd\n",
    "import numpy as pd\n",
    "import re"
   ]
  },
  {
   "cell_type": "markdown",
   "metadata": {},
   "source": [
    "## Example - Credit Bureau Report"
   ]
  },
  {
   "cell_type": "markdown",
   "metadata": {},
   "source": [
    "![](pdf/creditform.png)"
   ]
  },
  {
   "cell_type": "code",
   "execution_count": 1,
   "metadata": {
    "collapsed": true
   },
   "outputs": [],
   "source": [
    "from cStringIO import StringIO\n",
    "from pdfminer.pdfinterp import PDFResourceManager, PDFPageInterpreter\n",
    "from pdfminer.converter import TextConverter\n",
    "from pdfminer.layout import LAParams\n",
    "from pdfminer.pdfpage import PDFPage\n",
    "import os\n",
    "import sys, getopt\n",
    "\n",
    "#converts pdf, returns its text content as a string\n",
    "def convert(fname, pages=None):\n",
    "    if not pages:\n",
    "        pagenums = set()\n",
    "    else:\n",
    "        pagenums = set(pages)\n",
    "\n",
    "    output = StringIO()\n",
    "    manager = PDFResourceManager()\n",
    "    converter = TextConverter(manager, output, laparams=LAParams())\n",
    "    interpreter = PDFPageInterpreter(manager, converter)\n",
    "\n",
    "    infile = file(fname, 'rb')\n",
    "    for page in PDFPage.get_pages(infile, pagenums):\n",
    "        interpreter.process_page(page)\n",
    "    infile.close()\n",
    "    converter.close()\n",
    "    text = output.getvalue()\n",
    "    output.close\n",
    "    return text"
   ]
  },
  {
   "cell_type": "code",
   "execution_count": 4,
   "metadata": {
    "collapsed": true
   },
   "outputs": [],
   "source": [
    "text = convert('pdf/3A_e-Premium.pdf')\n",
    "text = text.split('\\n')\n",
    "text = [line for line in text if line is not '']"
   ]
  },
  {
   "cell_type": "code",
   "execution_count": 6,
   "metadata": {
    "scrolled": false
   },
   "outputs": [
    {
     "data": {
      "text/plain": [
       "['Company Identification',\n",
       " 'Company Name:',\n",
       " 'Zhejiang Heavy Machinery & Equipment  Co., Ltd. (Sample Report)',\n",
       " 'Company Name (CN): \\xe6\\xb5\\x99\\xe6\\xb1\\x9f\\xe9\\x87\\x8d\\xe5\\xb7\\xa5\\xe6\\x9c\\xba\\xe6\\xa2\\xb0\\xe8\\xae\\xbe\\xe5\\xa4\\x87\\xe6\\x9c\\x89\\xe9\\x99\\x90\\xe5\\x85\\xac\\xe5\\x8f\\xb8 (\\xe6\\xa0\\xb7\\xe6\\x9c\\xac\\xe6\\x8a\\xa5\\xe5\\x91\\x8a)',\n",
       " 'No. 67, Xinggang Road',\n",
       " 'Science & Technology Tower 1',\n",
       " 'Phone:',\n",
       " '+86-0579-67525900,',\n",
       " '67525908',\n",
       " 'Facsimile:',\n",
       " '+86-0579-67525902',\n",
       " 'E-mail:',\n",
       " 'Website:',\n",
       " 'Zip Code:',\n",
       " 'Organizational',\n",
       " 'Code:',\n",
       " 'Tax Nr:',\n",
       " 'info@beijinghme.com',\n",
       " 'www.beijinghme.com',\n",
       " '320513',\n",
       " '667179359',\n",
       " '667581667179359']"
      ]
     },
     "execution_count": 6,
     "metadata": {},
     "output_type": "execute_result"
    }
   ],
   "source": [
    "text[8:30]"
   ]
  },
  {
   "cell_type": "markdown",
   "metadata": {},
   "source": [
    "> The most ideal output will be the field is follow by the field name, e.g. 'Company Name:', 'Zhejiang Heavy Machinery...'. However, other fields suck as 'E-mail:' and 'Website:' are not follow by 'info@beijinghme.com' and 'www.beijinghme.com'.\n",
    "\n",
    "> Without using the field name, we need to use the filed characteristics, e.g."
   ]
  },
  {
   "cell_type": "code",
   "execution_count": 34,
   "metadata": {
    "scrolled": true
   },
   "outputs": [
    {
     "name": "stdout",
     "output_type": "stream",
     "text": [
      "website: ['www.beijinghme.com'] \n",
      "email: ['info@beijinghme.com']\n",
      "\n",
      "tel: ['+86-0579-67525900,', '+86-0579-67525902']\n"
     ]
    }
   ],
   "source": [
    "website = [line for line in text if 'www' in line]\n",
    "email = [line for line in text if '@' in line]\n",
    "tel = [line for line in text if '+86' in line]\n",
    "print 'website:', website, '\\n','email:', email \n",
    "print '\\n', 'tel:', tel[:2]"
   ]
  },
  {
   "cell_type": "markdown",
   "metadata": {},
   "source": [
    "## Using Regular Expression"
   ]
  },
  {
   "cell_type": "code",
   "execution_count": 57,
   "metadata": {},
   "outputs": [],
   "source": [
    "def extract_paragraph(text, keyword1, keyword2, remove_empty = False):\n",
    "    paragraph = []\n",
    "    for line in range(len(text)):\n",
    "        if any(w in text[line] for w in keyword1):\n",
    "            paragraph.append(text[line])\n",
    "            nl = 1\n",
    "            while any(w in text[line+nl] for w in keyword2) ==  False:\n",
    "                if (line + nl + 1) >= len(text):\n",
    "                    paragraph.append(text[line+nl])\n",
    "                    break\n",
    "                else:\n",
    "                    paragraph.append(text[line+nl])\n",
    "                    nl += 1\n",
    "            break\n",
    "    paragraph.append('THE END')\n",
    "    if remove_empty == True:\n",
    "        paragraph = [line for line in paragraph if line is not '']\n",
    "    return paragraph\n",
    "\n",
    "def regex_find(expression, text):\n",
    "    x = []\n",
    "    for line in text: \n",
    "        match = re.findall('.*?(' + expression + ').*', line)\n",
    "        if len(match) != 0:     \n",
    "            x.append(match)\n",
    "    return x\n",
    "    "
   ]
  },
  {
   "cell_type": "code",
   "execution_count": 58,
   "metadata": {},
   "outputs": [
    {
     "data": {
      "text/plain": [
       "[['2014-03-06'],\n",
       " ['2014-03-06'],\n",
       " ['2006-04-01'],\n",
       " ['2014-03-06'],\n",
       " ['2006-04-01']]"
      ]
     },
     "execution_count": 58,
     "metadata": {},
     "output_type": "execute_result"
    }
   ],
   "source": [
    "# find the date format\n",
    "regex_find('[0-9][0-9][0-9][0-9]-[0-9][0-9]-[0-9][0-9]', text)[:5]\n"
   ]
  },
  {
   "cell_type": "markdown",
   "metadata": {},
   "source": [
    "> There are many dates in this report!"
   ]
  },
  {
   "cell_type": "code",
   "execution_count": 59,
   "metadata": {},
   "outputs": [
    {
     "data": {
      "text/plain": [
       "[['2006-04-01'], ['2056-03-31']]"
      ]
     },
     "execution_count": 59,
     "metadata": {},
     "output_type": "execute_result"
    }
   ],
   "source": [
    "regex_find('[0-9][0-9][0-9][0-9]-[0-9][0-9]-[0-9][0-9]', \n",
    "           extract_paragraph(text, ['Legal Information'], \n",
    "                            ['Business Scope']))"
   ]
  },
  {
   "cell_type": "markdown",
   "metadata": {},
   "source": [
    "> This limited to the 'Incorporation Date' and 'Expiration Date'"
   ]
  },
  {
   "cell_type": "code",
   "execution_count": null,
   "metadata": {
    "collapsed": true
   },
   "outputs": [],
   "source": []
  }
 ],
 "metadata": {
  "kernelspec": {
   "display_name": "Python 2",
   "language": "python",
   "name": "python2"
  },
  "language_info": {
   "codemirror_mode": {
    "name": "ipython",
    "version": 2
   },
   "file_extension": ".py",
   "mimetype": "text/x-python",
   "name": "python",
   "nbconvert_exporter": "python",
   "pygments_lexer": "ipython2",
   "version": "2.7.13"
  }
 },
 "nbformat": 4,
 "nbformat_minor": 2
}
